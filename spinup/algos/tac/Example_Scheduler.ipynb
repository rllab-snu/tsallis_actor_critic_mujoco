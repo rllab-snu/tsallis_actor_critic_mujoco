{
 "cells": [
  {
   "cell_type": "code",
   "execution_count": 1,
   "metadata": {},
   "outputs": [],
   "source": [
    "import numpy as np\n",
    "from matplotlib import pyplot as plt\n",
    "%matplotlib inline"
   ]
  },
  {
   "cell_type": "code",
   "execution_count": 12,
   "metadata": {},
   "outputs": [],
   "source": [
    "class Alpha:\n",
    "    def __init__(self, alpha_start=0.2, alpha_end=2e-3, speed=2.0, schedule='constant'):\n",
    "        self.alpha_start = alpha_start\n",
    "        self.alpha_end = alpha_end\n",
    "        self.schedule = schedule\n",
    "        self.speed = speed\n",
    "        self.count = 0\n",
    "        \n",
    "    def __call__(self, ret=None):\n",
    "        if self.schedule == 'constant':\n",
    "            return self.alpha_start\n",
    "        elif self.schedule == 'logarithm':\n",
    "            self.count += 1\n",
    "            return np.maximum(\n",
    "                self.alpha_end, \n",
    "                np.minimum(\n",
    "                    self.alpha_start,\n",
    "                    self.alpha_start/np.maximum(np.log(self.count*self.speed+1e-3),1)\n",
    "                )\n",
    "            )\n",
    "\n",
    "class EntropicIndex:\n",
    "    def __init__(self, q_start=1.0, q_end=-2.0, speed=0.004, schedule='constant'):\n",
    "        self.q_start = q_start\n",
    "        self.q_end = q_end\n",
    "        self.prev_ret = None\n",
    "        self.schedule = schedule\n",
    "        self.speed = speed\n",
    "        self.count = 0\n",
    "\n",
    "    def __call__(self, ret=None):\n",
    "        if self.schedule == 'constant':\n",
    "            return self.q_start\n",
    "        elif self.schedule == 'linear':\n",
    "            self.count += 1\n",
    "            return np.maximum(self.q_end,np.minimum(self.q_start,self.q_start+(self.q_end-self.q_start)*np.maximum(self.count*self.speed-0.2,0)))"
   ]
  },
  {
   "cell_type": "code",
   "execution_count": 13,
   "metadata": {},
   "outputs": [
    {
     "data": {
      "image/png": "[encoded data removed]",
      "text/plain": [
       "<Figure size 432x288 with 1 Axes>"
      ]
     },
     "metadata": {
      "needs_background": "light"
     },
     "output_type": "display_data"
    }
   ],
   "source": [
    "alpha = Alpha(schedule='constant')\n",
    "alpha_list = []\n",
    "for _ in range(5000):\n",
    "    alpha_list.append(alpha())\n",
    "plt.plot(alpha_list,label='Constant')\n",
    "    \n",
    "alpha = Alpha(schedule='logarithm',alpha_start=0.5, speed=0.01)\n",
    "alpha_list = []\n",
    "for _ in range(5000):\n",
    "    alpha_list.append(alpha())\n",
    "plt.plot(alpha_list,label='Logarithm')\n",
    "plt.legend()\n",
    "plt.ylim([0,0.3])\n",
    "plt.show()"
   ]
  },
  {
   "cell_type": "code",
   "execution_count": 14,
   "metadata": {},
   "outputs": [
    {
     "data": {
      "image/png": "[encoded data removed]",
      "text/plain": [
       "<Figure size 432x288 with 1 Axes>"
      ]
     },
     "metadata": {
      "needs_background": "light"
     },
     "output_type": "display_data"
    }
   ],
   "source": [
    "entropicindex = EntropicIndex(schedule='constant')\n",
    "entropicindex_list = []\n",
    "for _ in range(500):\n",
    "    entropicindex_list.append(entropicindex())\n",
    "plt.plot(entropicindex_list,label='Constant')\n",
    "    \n",
    "entropicindex = EntropicIndex(schedule='linear')\n",
    "entropicindex_list = []\n",
    "for _ in range(500):\n",
    "    entropicindex_list.append(entropicindex())\n",
    "plt.plot(entropicindex_list,label='Linear')\n",
    "plt.legend()\n",
    "# plt.ylim([0.7,3.3])\n",
    "plt.show()"
   ]
  }
 ],
 "metadata": {
  "kernelspec": {
   "display_name": "baselines_env",
   "language": "python",
   "name": "baselines_env"
  },
  "language_info": {
   "codemirror_mode": {
    "name": "ipython",
    "version": 3
   },
   "file_extension": ".py",
   "mimetype": "text/x-python",
   "name": "python",
   "nbconvert_exporter": "python",
   "pygments_lexer": "ipython3",
   "version": "3.5.2"
  }
 },
 "nbformat": 4,
 "nbformat_minor": 2
}
