{
 "cells": [
  {
   "cell_type": "code",
   "execution_count": 1,
   "metadata": {},
   "outputs": [],
   "source": [
    "import numpy as np\n",
    "import tensorflow as tf\n",
    "from tf_tsallis_statistics import *\n",
    "from matplotlib import pyplot as plt\n",
    "%matplotlib inline"
   ]
  },
  {
   "cell_type": "code",
   "execution_count": 2,
   "metadata": {},
   "outputs": [
    {
     "name": "stdout",
     "output_type": "stream",
     "text": [
      "WARNING:tensorflow:From /home/dlxhrl/tsallis_actor_critic_mujoco/spinup/algos/tac/tf_tsallis_statistics.py:55: Chi2.__init__ (from tensorflow.contrib.distributions.python.ops.chi2) is deprecated and will be removed after 2018-10-01.\n",
      "Instructions for updating:\n",
      "The TensorFlow Distributions library has moved to TensorFlow Probability (https://github.com/tensorflow/probability). You should update all references to use `tfp.distributions` instead of `tf.contrib.distributions`.\n"
     ]
    }
   ],
   "source": [
    "tf.reset_default_graph()\n",
    "mu_dummy = tf.get_variable(\"mu\",shape=(1000,2))\n",
    "\n",
    "q_ph = tf.placeholder(tf.float32,shape=())\n",
    "x_ph = tf.placeholder(tf.float32,shape=(None,2))\n",
    "\n",
    "log_std = tf.constant([[-10.0,-10.0]])\n",
    "mu = tf.constant([[0.0,0.0]])\n",
    "std = tf.exp(log_std)\n",
    "\n",
    "x_sample = mu+std*tf_random_q_normal(tf.shape(mu_dummy),q_ph)\n",
    "pdf = tf_q_gaussian_distribution(x_ph,mu,log_std,q_ph)\n",
    "sess = tf.Session()"
   ]
  },
  {
   "cell_type": "code",
   "execution_count": 3,
   "metadata": {},
   "outputs": [
    {
     "name": "stderr",
     "output_type": "stream",
     "text": [
      "/home/dlxhrl/baselines_env/lib/python3.5/site-packages/matplotlib/contour.py:1243: UserWarning: No contour levels were found within the data range.\n",
      "  warnings.warn(\"No contour levels were found\"\n"
     ]
    },
    {
     "data": {
      "image/png": "[encoded data removed]",
      "text/plain": [
       "<Figure size 432x288 with 1 Axes>"
      ]
     },
     "metadata": {
      "needs_background": "light"
     },
     "output_type": "display_data"
    },
    {
     "data": {
      "image/png": "[encoded data removed]",
      "text/plain": [
       "<Figure size 432x288 with 1 Axes>"
      ]
     },
     "metadata": {
      "needs_background": "light"
     },
     "output_type": "display_data"
    },
    {
     "data": {
      "image/png": "[encoded data removed]",
      "text/plain": [
       "<Figure size 432x288 with 1 Axes>"
      ]
     },
     "metadata": {
      "needs_background": "light"
     },
     "output_type": "display_data"
    }
   ],
   "source": [
    "x = np.linspace(-8,8,num=100)\n",
    "y = np.linspace(-8,8,num=100)\n",
    "X,Y = np.meshgrid(x,y)\n",
    "\n",
    "x_points = np.concatenate([X.reshape([-1,1]),Y.reshape([-1,1])],axis=1)\n",
    "\n",
    "x_samples,pdf_points = sess.run([x_sample,pdf],feed_dict={x_ph:x_points,q_ph:1})\n",
    "max_pdf = np.max(pdf_points[:])\n",
    "# print(np.isnan(pdf_points[:]).any())\n",
    "pdf_points = pdf_points.reshape([100,100])\n",
    "plt.plot(x_samples[:,0],x_samples[:,1],'r.')\n",
    "plt.contour(X,Y,pdf_points)\n",
    "# plt.clim([0,max_pdf])\n",
    "# plt.colorbar()\n",
    "plt.plot(0.0,0.0,'rx')\n",
    "plt.xlim([-8,8])\n",
    "plt.ylim([-8,8])\n",
    "plt.show()\n",
    "\n",
    "x_samples,pdf_points = sess.run([x_sample,pdf],feed_dict={x_ph:x_points,q_ph:0})\n",
    "pdf_points = pdf_points.reshape([100,100])\n",
    "plt.plot(x_samples[:,0],x_samples[:,1],'r.')\n",
    "plt.contour(X,Y,pdf_points)\n",
    "# plt.clim([0,max_pdf])\n",
    "# plt.colorbar()\n",
    "plt.plot(0.0,0.0,'rx')\n",
    "plt.xlim([-8,8])\n",
    "plt.ylim([-8,8])\n",
    "plt.show()\n",
    "\n",
    "x_samples,pdf_points = sess.run([x_sample,pdf],feed_dict={x_ph:x_points,q_ph:-2})\n",
    "pdf_points = pdf_points.reshape([100,100])\n",
    "plt.plot(x_samples[:,0],x_samples[:,1],'r.')\n",
    "plt.contour(X,Y,pdf_points)\n",
    "# plt.clim([0,max_pdf])\n",
    "# plt.colorbar()\n",
    "plt.plot(0.0,0.0,'rx')\n",
    "plt.xlim([-8,8])\n",
    "plt.ylim([-8,8])\n",
    "plt.show()"
   ]
  },
  {
   "cell_type": "code",
   "execution_count": 26,
   "metadata": {},
   "outputs": [],
   "source": [
    "tf.reset_default_graph()\n",
    "mu_dummy = tf.get_variable(\"mu\",shape=(1000,1))\n",
    "\n",
    "q_ph = tf.placeholder(tf.float32,shape=())\n",
    "x_ph = tf.placeholder(tf.float32,shape=(None,1))\n",
    "\n",
    "mu = tf.constant([[0.0]])\n",
    "log_std = tf.constant([[-2.0]])\n",
    "std = tf.exp(log_std)\n",
    "\n",
    "x_sample = mu+std*tf_random_q_normal(tf.shape(x_ph),q_ph)\n",
    "pdf = tf_q_gaussian_distribution(x_ph,mu,log_std,q_ph)\n",
    "center = tf_q_gaussian_distribution(tf.constant([[0.0]]),tf.constant([[0.0]]),tf.constant([[0.0]]),q_ph)\n",
    "sess = tf.Session()"
   ]
  },
  {
   "cell_type": "code",
   "execution_count": 34,
   "metadata": {},
   "outputs": [
    {
     "data": {
      "image/png": "[encoded data removed]",
      "text/plain": [
       "<Figure size 432x288 with 1 Axes>"
      ]
     },
     "metadata": {
      "needs_background": "light"
     },
     "output_type": "display_data"
    }
   ],
   "source": [
    "x = np.linspace(-8,8,num=1000)\n",
    "x = np.reshape(x,[-1,1])\n",
    "\n",
    "x_samples,pdf_points,log_pdf_points = sess.run([x_sample,pdf,tf_log_q(pdf,1.0)],feed_dict={x_ph:x,q_ph:1})\n",
    "plt.plot(x_samples,np.zeros_like(x_samples),'r.')\n",
    "plt.plot(x,pdf_points)\n",
    "plt.plot(x,log_pdf_points)\n",
    "\n",
    "x_samples,pdf_points,log_pdf_points = sess.run([x_sample,pdf,tf_log_q(pdf,0.0)],feed_dict={x_ph:x,q_ph:1})\n",
    "plt.plot(x,1.5*log_pdf_points)\n",
    "\n",
    "x_samples,pdf_points,log_pdf_points = sess.run([x_sample,pdf,tf_log_q(pdf,-1.0)],feed_dict={x_ph:x,q_ph:1})\n",
    "plt.plot(x,2.3*log_pdf_points)\n",
    "plt.xlim([-2,2])\n",
    "plt.ylim([-5,10])\n",
    "plt.show()"
   ]
  }
 ],
 "metadata": {
  "kernelspec": {
   "display_name": "baselines_env",
   "language": "python",
   "name": "baselines_env"
  },
  "language_info": {
   "codemirror_mode": {
    "name": "ipython",
    "version": 3
   },
   "file_extension": ".py",
   "mimetype": "text/x-python",
   "name": "python",
   "nbconvert_exporter": "python",
   "pygments_lexer": "ipython3",
   "version": "3.5.2"
  }
 },
 "nbformat": 4,
 "nbformat_minor": 2
}
